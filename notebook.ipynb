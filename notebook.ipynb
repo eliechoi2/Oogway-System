{
 "cells": [
  {
   "cell_type": "code",
   "execution_count": 1,
   "metadata": {},
   "outputs": [],
   "source": [
    "# Import necessary libraries\n",
    "from app import db\n",
    "from models import *  # Import all your models\n",
    "\n",
    "# This will import the app and bind the db context if it's not already done\n",
    "from flask import Flask\n",
    "from app import app\n",
    "app.app_context().push()  # Push the app context to make sure you're connected to the db\n"
   ]
  },
  {
   "cell_type": "code",
   "execution_count": 2,
   "metadata": {},
   "outputs": [
    {
     "name": "stdout",
     "output_type": "stream",
     "text": [
      "Shelfreading cleared successfully.\n"
     ]
    }
   ],
   "source": [
    "# Clear all data in the database (delete all records)\n",
    "try:\n",
    "    # Delete records from all models (tables)\n",
    "    db.session.query(ShelfReading).delete()\n",
    "\n",
    "    # Commit the changes to the database\n",
    "    db.session.commit()\n",
    "    print(\"Shelfreading cleared successfully.\")\n",
    "except Exception as e:\n",
    "    db.session.rollback()  # Rollback if there's an error\n",
    "    print(f\"An error occurred: {e}\")\n"
   ]
  }
 ],
 "metadata": {
  "kernelspec": {
   "display_name": "Python 3",
   "language": "python",
   "name": "python3"
  },
  "language_info": {
   "codemirror_mode": {
    "name": "ipython",
    "version": 3
   },
   "file_extension": ".py",
   "mimetype": "text/x-python",
   "name": "python",
   "nbconvert_exporter": "python",
   "pygments_lexer": "ipython3",
   "version": "3.13.0"
  }
 },
 "nbformat": 4,
 "nbformat_minor": 2
}
